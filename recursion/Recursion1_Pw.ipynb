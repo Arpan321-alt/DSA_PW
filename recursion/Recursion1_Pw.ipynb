{
  "nbformat": 4,
  "nbformat_minor": 0,
  "metadata": {
    "colab": {
      "provenance": []
    },
    "kernelspec": {
      "name": "python3",
      "display_name": "Python 3"
    },
    "language_info": {
      "name": "python"
    }
  },
  "cells": [
    {
      "cell_type": "code",
      "execution_count": 3,
      "metadata": {
        "colab": {
          "base_uri": "https://localhost:8080/"
        },
        "id": "1SYktnBEvbWa",
        "outputId": "d128fbb4-3ebb-4cfa-d319-73e76790a8aa"
      },
      "outputs": [
        {
          "output_type": "stream",
          "name": "stdout",
          "text": [
            "1\n",
            "2\n",
            "3\n"
          ]
        }
      ],
      "source": [
        "def func(a,i):\n",
        "  if i>=len(a):\n",
        "    return\n",
        "  print(a[i])\n",
        "\n",
        "  func(a,i+1)\n",
        "func([1,2,3],0)"
      ]
    },
    {
      "cell_type": "code",
      "source": [
        "def func(arr,SI):\n",
        "  if SI>=len(arr):\n",
        "    return\n",
        "  func(arr,SI+1)\n",
        "  print(arr[SI])\n",
        "func([12,3,4],0)"
      ],
      "metadata": {
        "id": "2mdMy3ILv4Su"
      },
      "execution_count": 5,
      "outputs": []
    },
    {
      "cell_type": "code",
      "source": [
        "#[3,5,2,1,4]\n",
        "def find_min(arr,sI):\n",
        "  if sI>=len(arr):\n",
        "    return 448984\n",
        "  return min(arr[sI],find_min(arr,sI+1))\n",
        "find_min([3,4,2,5,1],0)"
      ],
      "metadata": {
        "colab": {
          "base_uri": "https://localhost:8080/"
        },
        "id": "uKAbIEvm4adX",
        "outputId": "02dbb1b2-4dde-4249-8329-badfb7e1fa1f"
      },
      "execution_count": 16,
      "outputs": [
        {
          "output_type": "execute_result",
          "data": {
            "text/plain": [
              "1"
            ]
          },
          "metadata": {},
          "execution_count": 16
        }
      ]
    },
    {
      "cell_type": "code",
      "source": [
        "def find_min(arr,sI):\n",
        "  if sI>=len(arr):\n",
        "    return 448984\n",
        "\n",
        "  return min(arr[sI],find_min(arr,sI+1))\n",
        "find_min([3,4,2,5,1],0)"
      ],
      "metadata": {
        "colab": {
          "base_uri": "https://localhost:8080/"
        },
        "id": "5Q71eB88-1R1",
        "outputId": "0e158668-890c-4f72-dc11-fbd8956bdbc7"
      },
      "execution_count": 22,
      "outputs": [
        {
          "output_type": "execute_result",
          "data": {
            "text/plain": [
              "1"
            ]
          },
          "metadata": {},
          "execution_count": 22
        }
      ]
    },
    {
      "cell_type": "code",
      "source": [
        "#Tower of Hanoi\n",
        "#recursion\n",
        "def moves(n,s,d,a):\n",
        "  #base condition\n",
        "  if n==1:\n",
        "    return 1\n",
        "  return moves(n-1,s,a,d)+1+moves(n-1,a,d,s)\n",
        "print(moves(3,'s','d','a'))"
      ],
      "metadata": {
        "colab": {
          "base_uri": "https://localhost:8080/"
        },
        "id": "fYjilUuRFStF",
        "outputId": "12189a55-41d5-4f99-ec78-e3322ee968da"
      },
      "execution_count": 24,
      "outputs": [
        {
          "output_type": "stream",
          "name": "stdout",
          "text": [
            "7\n"
          ]
        }
      ]
    }
  ]
}